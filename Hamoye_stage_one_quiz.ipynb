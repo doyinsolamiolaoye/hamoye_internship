{
  "nbformat": 4,
  "nbformat_minor": 0,
  "metadata": {
    "colab": {
      "name": "Hamoye_stage_one_quiz.ipynb",
      "provenance": [],
      "authorship_tag": "ABX9TyNh44ZEK5GJ6ZY9KHlNenq+",
      "include_colab_link": true
    },
    "kernelspec": {
      "name": "python3",
      "display_name": "Python 3"
    }
  },
  "cells": [
    {
      "cell_type": "markdown",
      "metadata": {
        "id": "view-in-github",
        "colab_type": "text"
      },
      "source": [
        "<a href=\"https://colab.research.google.com/github/doyinsolamiolaoye/hamoye_internship/blob/master/Hamoye_stage_one_quiz.ipynb\" target=\"_parent\"><img src=\"https://colab.research.google.com/assets/colab-badge.svg\" alt=\"Open In Colab\"/></a>"
      ]
    },
    {
      "cell_type": "markdown",
      "metadata": {
        "id": "ac4rnoUi7XL2",
        "colab_type": "text"
      },
      "source": [
        "# Introduction to Python for Machine Learning"
      ]
    },
    {
      "cell_type": "code",
      "metadata": {
        "id": "lWa2UlHj7mCr",
        "colab_type": "code",
        "colab": {}
      },
      "source": [
        ""
      ],
      "execution_count": null,
      "outputs": []
    }
  ]
}